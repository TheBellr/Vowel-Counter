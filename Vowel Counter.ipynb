{
 "cells": [
  {
   "cell_type": "markdown",
   "id": "864c3118-cbed-429e-aa19-ab5bf535e9e3",
   "metadata": {},
   "source": [
    "# Vowel Counter\n",
    "Write a program that counts the number of vowels in a given string using indexing and string methods. You can utilize the count() method to count specific characters within a string."
   ]
  },
  {
   "cell_type": "code",
   "execution_count": null,
   "id": "1a416ded-6d30-47d4-bc48-f34e8a10f480",
   "metadata": {},
   "outputs": [],
   "source": [
    "message = input(\"Write a message: \")\n",
    "ret_message = message.upper()\n",
    "\n",
    "vowels = \"AEIOU\"\n",
    "\n",
    "count_a = ret_message.count('A')\n",
    "count_e = ret_message.count('E')\n",
    "count_i = ret_message.count('I')\n",
    "count_o = ret_message.count('O')\n",
    "count_u = ret_message.count('U')\n",
    "count_total = count_a + count_e + count_i + count_o + count_u\n",
    "\n",
    "print(\"This message contains \" + str(count_total) + \" vowels.\")\n"
   ]
  }
 ],
 "metadata": {
  "kernelspec": {
   "display_name": "Python 3 (ipykernel)",
   "language": "python",
   "name": "python3"
  },
  "language_info": {
   "codemirror_mode": {
    "name": "ipython",
    "version": 3
   },
   "file_extension": ".py",
   "mimetype": "text/x-python",
   "name": "python",
   "nbconvert_exporter": "python",
   "pygments_lexer": "ipython3",
   "version": "3.11.5"
  }
 },
 "nbformat": 4,
 "nbformat_minor": 5
}
